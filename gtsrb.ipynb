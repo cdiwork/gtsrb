{
 "metadata": {
  "language": "lua",
  "name": "",
  "signature": "sha256:64b10b6b1aef9b95d508d049f7b68f73a5ce388f57c4afef1e705ca60dcc93ae"
 },
 "nbformat": 3,
 "nbformat_minor": 0,
 "worksheets": [
  {
   "cells": [
    {
     "cell_type": "heading",
     "level": 2,
     "metadata": {},
     "source": [
      "-- install csv module with >$ luarocks install csv\n",
      "\n",
      "Here we only require the packages that are necessary for the optimization and visualization"
     ]
    },
    {
     "cell_type": "code",
     "collapsed": false,
     "input": [
      "require 'image';\n",
      "require 'xlua';\n",
      "require 'optim';"
     ],
     "language": "python",
     "metadata": {},
     "outputs": [],
     "prompt_number": 1
    },
    {
     "cell_type": "heading",
     "level": 2,
     "metadata": {},
     "source": [
      "Preprocessing rescales the images to 32x32. The color variable says if it should stay color (YUV) or gray (Y). The data then gets whitened then returns them as \"torch dataset\" variables named trainData and testData."
     ]
    },
    {
     "cell_type": "code",
     "collapsed": false,
     "input": [
      "color = false\n",
      "dofile('preprocess.lua');"
     ],
     "language": "python",
     "metadata": {},
     "outputs": [
      {
       "metadata": {},
       "output_type": "pyout",
       "prompt_number": 2,
       "text": [
        "Loading data!\t\n"
       ]
      },
      {
       "metadata": {},
       "output_type": "pyout",
       "prompt_number": 2,
       "text": [
        "Data is ready for work!\t\n"
       ]
      }
     ],
     "prompt_number": 2
    },
    {
     "cell_type": "heading",
     "level": 2,
     "metadata": {},
     "source": [
      "We then configure the deep model. We have a very simple configuration system : config picks one of the configurations from configure.lua and cuda says whether it should be run on the GPU or not. "
     ]
    },
    {
     "cell_type": "code",
     "collapsed": false,
     "input": [
      "--config = 3\n",
      "config = 5\n",
      "cuda = true\n",
      "\n",
      "dofile('configure.lua')\n",
      "print(model:__tostring())\n"
     ],
     "language": "python",
     "metadata": {},
     "outputs": [
      {
       "metadata": {},
       "output_type": "pyout",
       "prompt_number": 3,
       "text": [
        "Configuration 5\t\n"
       ]
      },
      {
       "metadata": {},
       "output_type": "pyout",
       "prompt_number": 3,
       "text": [
        "cuda\t\n"
       ]
      },
      {
       "metadata": {},
       "output_type": "pyout",
       "prompt_number": 3,
       "text": [
        "nn.Sequential {\n",
        "  [input -> (1) -> (2) -> (3) -> (4) -> (5) -> (6) -> (7) -> (8) -> (9) -> (10) -> (11) -> (12) -> (13) -> (14) -> (15) -> output]\n",
        "  (1): nn.SpatialConvolutionMM(in: 1, out: 100, kW: 5, kH: 5)\n",
        "  (2): nn.Tanh\n",
        "  (3): nn.ReLU\n",
        "  (4): nn.SpatialSubtractiveNormalization\n",
        "  (5): nn.SpatialDivisiveNormalization\n",
        "  (6): nn.SpatialMaxPooling(kW: 2, kH: 2, dW: 2, dH: 2)\n",
        "  (7): nn.Replicate\n",
        "  (8): nn.SplitTable\n",
        "  (9): nn.ParallelTable {\n",
        "    input\n",
        "      |`-> (1): nn.Sequential {\n",
        "      |      [input -> (1) -> (2) -> (3) -> (4) -> output]\n",
        "      |      (1): nn.SpatialConvolutionMM(in: 100, out: 200, kW: 5, kH: 5)\n",
        "      |      (2): nn.ReLU\n",
        "      |      (3): nn.SpatialMaxPooling(kW: 2, kH: 2, dW: 2, dH: 2)\n",
        "      |      (4): nn.Reshape(5000)\n",
        "      |    }\n",
        "      |`-> (2): nn.Sequential {\n",
        "      |      [input -> (1) -> (2) -> output]\n",
        "      |      (1): nn.SpatialMaxPooling(kW: 2, kH: 2, dW: 2, dH: 2)\n",
        "      |      (2): nn.Reshape(4900)\n",
        "      |    }\n",
        "       ... -> output\n",
        "  }\n",
        "  (10): nn.JoinTable\n",
        "  (11): nn.Linear(9900 -> 100)\n",
        "  (12): nn.Tanh\n",
        "  (13): nn.Linear(100 -> 43)\n",
        "  (14): nn.Tanh\n",
        "  (15): nn.Reshape(43)\n",
        "}\t\n"
       ]
      }
     ],
     "prompt_number": 3
    },
    {
     "cell_type": "heading",
     "level": 2,
     "metadata": {},
     "source": [
      "Here we run the actual training. Nothing more special than StochasticGradient with momentum and weight decay."
     ]
    },
    {
     "cell_type": "code",
     "collapsed": false,
     "input": [
      "config=5\n",
      "dofile('preprocess.lua')\n",
      "dofile('configure.lua')\n",
      "trainer = nn.StochasticGradient(model, criterion)\n",
      "trainer.learningRate = learningRate\n",
      "trainer.learningRateDecay = 1e-7\n",
      "trainer.momentum = .9\n",
      "\n",
      "trainer.maxIteration = maxIt\n",
      "trainer.shuffleIndices = true\n",
      "trainer.verbose = true\n",
      "\n",
      "-- now run training\n",
      "trainer:train(trainData)"
     ],
     "language": "python",
     "metadata": {},
     "outputs": [
      {
       "metadata": {},
       "output_type": "pyout",
       "prompt_number": 7,
       "text": [
        "Loading data!\t\n"
       ]
      },
      {
       "metadata": {},
       "output_type": "pyout",
       "prompt_number": 7,
       "text": [
        "Data is ready for work!\t\n"
       ]
      },
      {
       "metadata": {},
       "output_type": "pyout",
       "prompt_number": 7,
       "text": [
        "Configuration 5\t\n"
       ]
      },
      {
       "metadata": {},
       "output_type": "pyout",
       "prompt_number": 7,
       "text": [
        "cuda\t\n"
       ]
      },
      {
       "metadata": {},
       "output_type": "pyout",
       "prompt_number": 7,
       "text": [
        "# StochasticGradient: training\t\n"
       ]
      }
     ]
    },
    {
     "cell_type": "heading",
     "level": 2,
     "metadata": {},
     "source": [
      "Here we assess results"
     ]
    },
    {
     "cell_type": "code",
     "collapsed": false,
     "input": [
      "correct = 0\n",
      "dataset = testData;\n",
      "--dataset = trainData;\n",
      "\n",
      "predLabel = torch.Tensor(dataset:size()):zero()\n",
      "for i=1,dataset:size() do\n",
      "    local groundtruth = dataset.label[i]\n",
      "    local prediction = model:forward(dataset.data[i])\n",
      "    local confidences, indices = torch.max(prediction,1)\n",
      "    if groundtruth == indices[1] then\n",
      "        correct = correct + 1\n",
      "    end\n",
      "    predLabel[i] = indices[1]\n",
      "end\n",
      "print(correct, 100*correct/dataset:size() .. ' % ')"
     ],
     "language": "python",
     "metadata": {},
     "outputs": [
      {
       "metadata": {},
       "output_type": "pyout",
       "prompt_number": 5,
       "text": [
        "11959\t94,687252573238 % \t\n"
       ]
      }
     ],
     "prompt_number": 5
    },
    {
     "cell_type": "heading",
     "level": 2,
     "metadata": {},
     "source": [
      "Matching result using last FC layer"
     ]
    },
    {
     "cell_type": "code",
     "collapsed": false,
     "input": [
      "ra = utils.matching_accuracy(model,18,trainData,testData)\n",
      "print('Matching accuracy on the test set ' .. ra .. ' % ')"
     ],
     "language": "python",
     "metadata": {},
     "outputs": [
      {
       "ename": "./utils.lua:47: attempt to index a nil value\nstack traceback:\n\t./utils.lua:47: in function 'matching_accuracy'\n\t[string \"ra = utils.matching_accuracy(model,18,trainDa...\"]:1: in main chunk\n\t[C]: in function 'xpcall'\n\t/home/catalin/torch/install/share/lua/5.1/itorch/main.lua:177: in function </home/catalin/torch/install/share/lua/5.1/itorch/main.lua:143>\n\t/home/catalin/torch/install/share/lua/5.1/lzmq/poller.lua:75: in function 'poll'\n\t...e/catalin/torch/install/share/lua/5.1/lzmq/impl/loop.lua:307: in function 'poll'\n\t...e/catalin/torch/install/share/lua/5.1/lzmq/impl/loop.lua:325: in function 'sleep_ex'\n\t...e/catalin/torch/install/share/lua/5.1/lzmq/impl/loop.lua:370: in function 'start'\n\t/home/catalin/torch/install/share/lua/5.1/itorch/main.lua:344: in main chunk\n\t[C]: in function 'require'\n\t[string \"arg={'/home/catalin/.ipython/profile_torch/se...\"]:1: in main chunk",
       "evalue": "",
       "output_type": "pyerr",
       "traceback": [
        "./utils.lua:47: attempt to index a nil value\nstack traceback:\n\t./utils.lua:47: in function 'matching_accuracy'\n\t[string \"ra = utils.matching_accuracy(model,18,trainDa...\"]:1: in main chunk\n\t[C]: in function 'xpcall'\n\t/home/catalin/torch/install/share/lua/5.1/itorch/main.lua:177: in function </home/catalin/torch/install/share/lua/5.1/itorch/main.lua:143>\n\t/home/catalin/torch/install/share/lua/5.1/lzmq/poller.lua:75: in function 'poll'\n\t...e/catalin/torch/install/share/lua/5.1/lzmq/impl/loop.lua:307: in function 'poll'\n\t...e/catalin/torch/install/share/lua/5.1/lzmq/impl/loop.lua:325: in function 'sleep_ex'\n\t...e/catalin/torch/install/share/lua/5.1/lzmq/impl/loop.lua:370: in function 'start'\n\t/home/catalin/torch/install/share/lua/5.1/itorch/main.lua:344: in main chunk\n\t[C]: in function 'require'\n\t[string \"arg={'/home/catalin/.ipython/profile_torch/se...\"]:1: in main chunk"
       ]
      }
     ],
     "prompt_number": 118
    },
    {
     "cell_type": "heading",
     "level": 2,
     "metadata": {},
     "source": [
      "Matching result using the last convolutional layer (after its non-linearities)"
     ]
    },
    {
     "cell_type": "code",
     "collapsed": false,
     "input": [
      "ra = utils.matching_accuracy(model,14,trainData,testData)\n",
      "print('Matching accuracy on the test set ' .. ra .. ' % ')"
     ],
     "language": "python",
     "metadata": {},
     "outputs": [
      {
       "metadata": {},
       "output_type": "pyout",
       "prompt_number": 6,
       "text": [
        "Matching accuracy on the test set 78,147268408551 % \t\n"
       ]
      }
     ],
     "prompt_number": 6
    },
    {
     "cell_type": "markdown",
     "metadata": {},
     "source": [
      "--------------------------------------------------------------------------------------------------------------------\n",
      "-------------------------------          END                   -----------------------------------------------------\n",
      "--------------------------------------------------------------------------------------------------------------------"
     ]
    },
    {
     "cell_type": "code",
     "collapsed": false,
     "input": [
      "print('Configuration 5')\n",
      "   \n",
      "  nfeats = {100,200,100}\n",
      "  filtsize = 5\n",
      "  nclasses = 43\n",
      "    \n",
      "  model = nn.Sequential()\n",
      "  model:add(nn.SpatialConvolutionMM(cdims,nfeats[1],filtsize,filtsize,1,1))\n",
      "  model:add(nn.Tanh())\n",
      "  model:add(nn.ReLU())\n",
      "  model:add(nn.SpatialSubtractiveNormalization(nfeats[1],kernel_subtractive))\n",
      "  model:add(nn.SpatialDivisiveNormalization(nfeats[1],kernel_divisive))\n",
      "  model:add(nn.SpatialMaxPooling(2,2,2,2))\n",
      "  model:add(nn.Replicate(2)) -- replicate \n",
      "  model:add(nn.SplitTable(1)) -- put them in two tables because we'll use parallel table\n",
      "\n",
      "  -- the parallel section\n",
      "  mpt = nn.ParallelTable();\n",
      "\n",
      "  -- first\n",
      "  modL1 = nn.Sequential();\n",
      "  modL1:add(nn.SpatialMaxPooling(2,2,2,2))\n",
      "  modL1:add(nn.Reshape(nfeats[1]*7*7))\n",
      "\n",
      "  -- second\n",
      "  modL2 = nn.Sequential();\n",
      "  modL2:add(nn.SpatialConvolutionMM(nfeats[1],nfeats[2],filtsize,filtsize,1,1))\n",
      "  modL2:add(nn.ReLU())\n",
      "  modL2:add(nn.SpatialMaxPooling(2,2,2,2))\n",
      "  modL2:add(nn.Reshape(nfeats[2]*filtsize*filtsize))\n",
      "\n",
      "  mpt:add(modL2)\n",
      "  mpt:add(modL1) -- just identity\n",
      "\n",
      "  model:add(mpt) -- add the parallel section\n",
      "  model:add(nn.JoinTable(1)) -- join the tables\n",
      "  \n",
      "  model:add(nn.Linear(nfeats[1]*7*7+nfeats[2]*filtsize*filtsize,nfeats[3]))\n",
      "  model:add(nn.Tanh())\n",
      "  model:add(nn.Linear(nfeats[3], nclasses))\n",
      "  model:add(nn.Tanh())\n",
      "  model:add(nn.Reshape(nclasses))\n",
      "\n",
      "model:cuda()\n",
      "print(mod:__tostring())\n",
      "out = model:forward(trainData.data[1])\n",
      "print(out:size())"
     ],
     "language": "python",
     "metadata": {},
     "outputs": [
      {
       "metadata": {},
       "output_type": "pyout",
       "prompt_number": 112,
       "text": [
        "Configuration 5\t\n"
       ]
      },
      {
       "metadata": {},
       "output_type": "pyout",
       "prompt_number": 112,
       "text": [
        "nn.Sequential {\n",
        "  [input -> (1) -> (2) -> (3) -> (4) -> (5) -> (6) -> (7) -> (8) -> (9) -> (10) -> (11) -> (12) -> output]\n",
        "  (1): nn.SpatialConvolutionMM(in: 1, out: 100, kW: 5, kH: 5)\n",
        "  (2): nn.ReLU\n",
        "  (3): nn.SpatialMaxPooling(kW: 2, kH: 2, dW: 2, dH: 2)\n",
        "  (4): nn.Replicate\n",
        "  (5): nn.SplitTable\n",
        "  (6): nn.ParallelTable {\n",
        "    input\n",
        "      |`-> (1): nn.Sequential {\n",
        "      |      [input -> (1) -> (2) -> (3) -> (4) -> output]\n",
        "      |      (1): nn.SpatialConvolutionMM(in: 100, out: 200, kW: 5, kH: 5)\n",
        "      |      (2): nn.ReLU\n",
        "      |      (3): nn.SpatialMaxPooling(kW: 2, kH: 2, dW: 2, dH: 2)\n",
        "      |      (4): nn.Reshape(5000)\n",
        "      |    }\n",
        "      |`-> (2): nn.Sequential {\n",
        "      |      [input -> (1) -> (2) -> output]\n",
        "      |      (1): nn.SpatialMaxPooling(kW: 2, kH: 2, dW: 2, dH: 2)\n",
        "      |      (2): nn.Reshape(4900)\n",
        "      |    }\n",
        "       ... -> output\n",
        "  }\n",
        "  (7): nn.JoinTable\n",
        "  (8): nn.Linear(9900 -> 100)\n",
        "  (9): nn.Tanh\n",
        "  (10): nn.Linear(100 -> 43)\n",
        "  (11): nn.Tanh\n",
        "  (12): nn.Reshape(43)\n",
        "}\t\n"
       ]
      },
      {
       "metadata": {},
       "output_type": "pyout",
       "prompt_number": 112,
       "text": [
        "\n",
        " 43\n",
        "[torch.LongStorage of size 1]\n",
        "\n"
       ]
      }
     ],
     "prompt_number": 112
    },
    {
     "cell_type": "code",
     "collapsed": false,
     "input": [],
     "language": "python",
     "metadata": {},
     "outputs": []
    }
   ],
   "metadata": {}
  }
 ]
}