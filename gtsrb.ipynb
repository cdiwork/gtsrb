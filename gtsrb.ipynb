{
 "metadata": {
  "language": "lua",
  "name": "",
  "signature": "sha256:f3eda62092090c867340e3432e2bfb0cc7ab3721664acfee6c1d16766c0f8e38"
 },
 "nbformat": 3,
 "nbformat_minor": 0,
 "worksheets": [
  {
   "cells": [
    {
     "cell_type": "heading",
     "level": 2,
     "metadata": {},
     "source": [
      "-- install csv module with >$ luarocks install csv\n",
      "\n",
      "Here we only require the packages that are necessary for the optimization and visualization"
     ]
    },
    {
     "cell_type": "code",
     "collapsed": false,
     "input": [
      "require 'image';\n",
      "require 'xlua';\n",
      "require 'optim';"
     ],
     "language": "python",
     "metadata": {},
     "outputs": [],
     "prompt_number": 1
    },
    {
     "cell_type": "heading",
     "level": 2,
     "metadata": {},
     "source": [
      "Preprocessing rescales the images to 32x32. The color variable says if it should stay color (YUV) or gray (Y). The data then gets whitened then returns them as \"torch dataset\" variables named trainData and testData."
     ]
    },
    {
     "cell_type": "code",
     "collapsed": false,
     "input": [
      "color = false\n",
      "dofile('preprocess.lua')"
     ],
     "language": "python",
     "metadata": {},
     "outputs": [
      {
       "metadata": {},
       "output_type": "pyout",
       "prompt_number": 11,
       "text": [
        "Loading data!\t\n"
       ]
      },
      {
       "metadata": {},
       "output_type": "pyout",
       "prompt_number": 11,
       "text": [
        "Data is ready for work!\t\n"
       ]
      }
     ],
     "prompt_number": 11
    },
    {
     "cell_type": "heading",
     "level": 2,
     "metadata": {},
     "source": [
      "We then configure the deep model. We have a very simple configuration system : config picks one of the configurations from configure.lua and cuda says whether it should be run on the GPU or not. "
     ]
    },
    {
     "cell_type": "code",
     "collapsed": false,
     "input": [
      "config = 3\n",
      "cuda = true\n",
      "\n",
      "dofile('configure.lua')\n",
      "print(model:__tostring())\n"
     ],
     "language": "python",
     "metadata": {},
     "outputs": [
      {
       "metadata": {},
       "output_type": "pyout",
       "prompt_number": 3,
       "text": [
        "Configuration 3\t\n"
       ]
      },
      {
       "metadata": {},
       "output_type": "pyout",
       "prompt_number": 3,
       "text": [
        "cuda\t\n"
       ]
      },
      {
       "metadata": {},
       "output_type": "pyout",
       "prompt_number": 3,
       "text": [
        "nn.Sequential {\n",
        "  [input -> (1) -> (2) -> (3) -> (4) -> (5) -> (6) -> (7) -> (8) -> (9) -> (10) -> (11) -> (12) -> (13) -> (14) -> (15) -> (16) -> (17) -> (18) -> (19) -> (20) -> (21) -> (22) -> output]\n",
        "  (1): nn.SpatialContrastiveNormalization\n",
        "  (2): nn.SpatialConvolutionMM(in: 3, out: 100, kW: 5, kH: 5)\n",
        "  (3): nn.Tanh\n",
        "  (4): nn.ReLU\n",
        "  (5): nn.SpatialSubtractiveNormalization\n",
        "  (6): nn.SpatialDivisiveNormalization\n",
        "  (7): nn.SpatialMaxPooling(kW: 2, kH: 2, dW: 2, dH: 2)\n",
        "  (8): nn.SpatialConvolutionMM(in: 100, out: 200, kW: 5, kH: 5)\n",
        "  (9): nn.Tanh\n",
        "  (10): nn.ReLU\n",
        "  (11): nn.SpatialSubtractiveNormalization\n",
        "  (12): nn.SpatialDivisiveNormalization\n",
        "  (13): nn.SpatialMaxPooling(kW: 2, kH: 2, dW: 2, dH: 2)\n",
        "  (14): nn.Reshape(5000)\n",
        "  (15): nn.Linear(5000 -> 100)\n",
        "  (16): nn.Tanh\n",
        "  (17): nn.ReLU\n",
        "  (18): nn.Linear(100 -> 43)\n",
        "  (19): nn.Tanh\n",
        "  (20): nn.ReLU\n",
        "  (21): nn.Reshape(43)\n",
        "  (22): nn.LogSoftMax\n",
        "}\t\n"
       ]
      }
     ],
     "prompt_number": 3
    },
    {
     "cell_type": "heading",
     "level": 2,
     "metadata": {},
     "source": [
      "Here we run the actual training. Nothing more special than StochasticGradient with momentum and weight decay."
     ]
    },
    {
     "cell_type": "code",
     "collapsed": false,
     "input": [
      "config=3\n",
      "dofile('preprocess.lua')\n",
      "dofile('configure.lua')\n",
      "trainer = nn.StochasticGradient(model, criterion)\n",
      "trainer.learningRate = learningRate\n",
      "trainer.learningRateDecay = 1e-7\n",
      "trainer.momentum = .9\n",
      "\n",
      "trainer.maxIteration = maxIt\n",
      "trainer.shuffleIndices = true\n",
      "trainer.verbose = true\n",
      "\n",
      "-- now run training\n",
      "trainer:train(trainData)"
     ],
     "language": "python",
     "metadata": {},
     "outputs": [
      {
       "metadata": {},
       "output_type": "pyout",
       "prompt_number": 27,
       "text": [
        "Loading data!\t\n"
       ]
      },
      {
       "metadata": {},
       "output_type": "pyout",
       "prompt_number": 27,
       "text": [
        "Data is ready for work!\t\n",
        "Configuration 3\t\n"
       ]
      },
      {
       "metadata": {},
       "output_type": "pyout",
       "prompt_number": 27,
       "text": [
        "cuda\t\n"
       ]
      },
      {
       "metadata": {},
       "output_type": "pyout",
       "prompt_number": 27,
       "text": [
        "# StochasticGradient: training\t\n"
       ]
      },
      {
       "metadata": {},
       "output_type": "pyout",
       "prompt_number": 27,
       "text": [
        "# current error = 2,0985097526805\t\n"
       ]
      },
      {
       "metadata": {},
       "output_type": "pyout",
       "prompt_number": 27,
       "text": [
        "# current error = 1,9384438007713\t\n"
       ]
      },
      {
       "metadata": {},
       "output_type": "pyout",
       "prompt_number": 27,
       "text": [
        "# current error = 1,9220047939161\t\n"
       ]
      },
      {
       "metadata": {},
       "output_type": "pyout",
       "prompt_number": 27,
       "text": [
        "# current error = 1,9188861180738\t\n"
       ]
      },
      {
       "metadata": {},
       "output_type": "pyout",
       "prompt_number": 27,
       "text": [
        "# current error = 1,9119896407244\t\n"
       ]
      },
      {
       "metadata": {},
       "output_type": "pyout",
       "prompt_number": 27,
       "text": [
        "# current error = 1,9087569928115\t\n"
       ]
      },
      {
       "metadata": {},
       "output_type": "pyout",
       "prompt_number": 27,
       "text": [
        "# current error = 1,9074742339789\t\n"
       ]
      },
      {
       "metadata": {},
       "output_type": "pyout",
       "prompt_number": 27,
       "text": [
        "# current error = 1,9053445688835\t\n"
       ]
      },
      {
       "metadata": {},
       "output_type": "pyout",
       "prompt_number": 27,
       "text": [
        "# current error = 1,9043569801323\t\n"
       ]
      },
      {
       "metadata": {},
       "output_type": "pyout",
       "prompt_number": 27,
       "text": [
        "# current error = 1,9043875297367\t\n"
       ]
      },
      {
       "metadata": {},
       "output_type": "pyout",
       "prompt_number": 27,
       "text": [
        "# current error = 1,9037368406206\t\n"
       ]
      },
      {
       "metadata": {},
       "output_type": "pyout",
       "prompt_number": 27,
       "text": [
        "# current error = 1,9032388042078\t\n"
       ]
      },
      {
       "metadata": {},
       "output_type": "pyout",
       "prompt_number": 27,
       "text": [
        "# current error = 1,9028199118152\t\n"
       ]
      },
      {
       "metadata": {},
       "output_type": "pyout",
       "prompt_number": 27,
       "text": [
        "# current error = 1,9026638922446\t\n"
       ]
      },
      {
       "metadata": {},
       "output_type": "pyout",
       "prompt_number": 27,
       "text": [
        "# current error = 1,9017441045718\t\n",
        "# StochasticGradient: you have reached the maximum number of iterations\t\n",
        "# training error = 1,9017441045718\t\n"
       ]
      }
     ],
     "prompt_number": 27
    },
    {
     "cell_type": "heading",
     "level": 2,
     "metadata": {},
     "source": [
      "Here we assess results"
     ]
    },
    {
     "cell_type": "code",
     "collapsed": false,
     "input": [
      "correct = 0\n",
      "dataset = testData;\n",
      "--dataset = trainData;\n",
      "\n",
      "predLabel = torch.Tensor(dataset:size()):zero()\n",
      "for i=1,dataset:size() do\n",
      "    local groundtruth = dataset.label[i]\n",
      "    local prediction = model:forward(dataset.data[i])\n",
      "    local confidences, indices = torch.max(prediction,1)\n",
      "    if groundtruth == indices[1] then\n",
      "        correct = correct + 1\n",
      "    end\n",
      "    predLabel[i] = indices[1]\n",
      "end\n",
      "print(correct, 100*correct/dataset:size() .. ' % ')"
     ],
     "language": "python",
     "metadata": {},
     "outputs": [
      {
       "metadata": {},
       "output_type": "pyout",
       "prompt_number": 28,
       "text": [
        "12371\t97,949326999208 % \t\n"
       ]
      }
     ],
     "prompt_number": 28
    },
    {
     "cell_type": "markdown",
     "metadata": {},
     "source": [
      "--------------------------------------------------------------------------------------------------------------------\n",
      "-------------------------------          END                   -----------------------------------------------------\n",
      "--------------------------------------------------------------------------------------------------------------------"
     ]
    }
   ],
   "metadata": {}
  }
 ]
}